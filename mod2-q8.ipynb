{
 "cells": [
  {
   "cell_type": "code",
   "execution_count": 1,
   "id": "aaee8cc3-7a93-40c3-8490-1373c50ad0bd",
   "metadata": {},
   "outputs": [
    {
     "name": "stdout",
     "output_type": "stream",
     "text": [
      "24.034609838166958\n"
     ]
    }
   ],
   "source": [
    "#variable for Susan's Weight\n",
    "pt_weight = 60\n",
    "#variable for Susan's Height\n",
    "pt_height = 1.58\n",
    "\n",
    "#Variable to calculate BMI\n",
    "pt_bmi = pt_weight / (pt_height**2)\n",
    "print(pt_bmi)"
   ]
  }
 ],
 "metadata": {
  "kernelspec": {
   "display_name": "Python 3 (ipykernel)",
   "language": "python",
   "name": "python3"
  },
  "language_info": {
   "codemirror_mode": {
    "name": "ipython",
    "version": 3
   },
   "file_extension": ".py",
   "mimetype": "text/x-python",
   "name": "python",
   "nbconvert_exporter": "python",
   "pygments_lexer": "ipython3",
   "version": "3.12.7"
  }
 },
 "nbformat": 4,
 "nbformat_minor": 5
}
