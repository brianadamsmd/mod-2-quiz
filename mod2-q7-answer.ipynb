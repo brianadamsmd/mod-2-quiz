{
 "cells": [
  {
   "cell_type": "code",
   "execution_count": 1,
   "id": "de7f0777-ef0d-48d5-a837-b06e206440ba",
   "metadata": {},
   "outputs": [
    {
     "name": "stdout",
     "output_type": "stream",
     "text": [
      "<class 'int'>\n"
     ]
    }
   ],
   "source": [
    "#assign medication variable a value\n",
    "Medication = 5\n",
    "\n",
    "#now print type of variable\n",
    "print (type(Medication))"
   ]
  }
 ],
 "metadata": {
  "kernelspec": {
   "display_name": "Python 3 (ipykernel)",
   "language": "python",
   "name": "python3"
  },
  "language_info": {
   "codemirror_mode": {
    "name": "ipython",
    "version": 3
   },
   "file_extension": ".py",
   "mimetype": "text/x-python",
   "name": "python",
   "nbconvert_exporter": "python",
   "pygments_lexer": "ipython3",
   "version": "3.12.7"
  }
 },
 "nbformat": 4,
 "nbformat_minor": 5
}
