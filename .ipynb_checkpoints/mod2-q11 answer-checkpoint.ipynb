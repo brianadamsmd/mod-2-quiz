{
 "cells": [
  {
   "cell_type": "code",
   "execution_count": 3,
   "id": "47f395dc-b2d4-4674-a965-ec801ba16629",
   "metadata": {},
   "outputs": [
    {
     "data": {
      "text/plain": [
       "2"
      ]
     },
     "execution_count": 3,
     "metadata": {},
     "output_type": "execute_result"
    }
   ],
   "source": [
    "# Question 1 - Booleans\n",
    "True + True - False"
   ]
  },
  {
   "cell_type": "code",
   "execution_count": 4,
   "id": "c01126d0-fa7c-4cfb-b1f0-6366d3d9b16b",
   "metadata": {},
   "outputs": [
    {
     "name": "stdout",
     "output_type": "stream",
     "text": [
      "True\n"
     ]
    }
   ],
   "source": [
    "# Question 2 - Booleans 2\n",
    "logical_tracker = True\n",
    "\n",
    "logical_tracker = logical_tracker and logical_tracker\n",
    "\n",
    "logical_tracker = logical_tracker or (logical_tracker - logical_tracker)\n",
    "\n",
    "print(logical_tracker)"
   ]
  },
  {
   "cell_type": "code",
   "execution_count": 6,
   "id": "8f3c81d6-1f3c-4c54-8918-75e94cf5f545",
   "metadata": {},
   "outputs": [
    {
     "name": "stdout",
     "output_type": "stream",
     "text": [
      "\" \"\n"
     ]
    }
   ],
   "source": [
    "# Question 5 - Strings\n",
    "\n",
    "string = \"E. Coli\"\n",
    "print('\"' + string[2] + '\"')"
   ]
  },
  {
   "cell_type": "code",
   "execution_count": 7,
   "id": "0743bd39-6c1b-44d9-83ac-af67007dca5e",
   "metadata": {},
   "outputs": [
    {
     "ename": "TypeError",
     "evalue": "'str' object does not support item assignment",
     "output_type": "error",
     "traceback": [
      "\u001b[0;31m---------------------------------------------------------------------------\u001b[0m",
      "\u001b[0;31mTypeError\u001b[0m                                 Traceback (most recent call last)",
      "Cell \u001b[0;32mIn[7], line 4\u001b[0m\n\u001b[1;32m      1\u001b[0m \u001b[38;5;66;03m# Question 6 - Strings 2\u001b[39;00m\n\u001b[1;32m      2\u001b[0m string \u001b[38;5;241m=\u001b[39m \u001b[38;5;124m\"\u001b[39m\u001b[38;5;124mI Bove python\u001b[39m\u001b[38;5;124m\"\u001b[39m\n\u001b[0;32m----> 4\u001b[0m string[\u001b[38;5;241m2\u001b[39m]\u001b[38;5;241m=\u001b[39m\u001b[38;5;124m\"\u001b[39m\u001b[38;5;124mL\u001b[39m\u001b[38;5;124m\"\u001b[39m\n\u001b[1;32m      6\u001b[0m \u001b[38;5;28mprint\u001b[39m(string)\n",
      "\u001b[0;31mTypeError\u001b[0m: 'str' object does not support item assignment"
     ]
    }
   ],
   "source": [
    "# Question 6 - Strings 2\n",
    "string = \"I Bove python\"\n",
    "\n",
    "string[2]=\"L\"\n",
    "\n",
    "print(string)"
   ]
  },
  {
   "cell_type": "markdown",
   "id": "e2871dbd-93b2-4e56-88aa-4934144850fe",
   "metadata": {},
   "source": [
    "# Question 9 - Operators 2\n",
    "\n",
    "For integers, + performs arithmetic addition. The sum of two numerical values. 2+2 = 4\n",
    "\n",
    "For Strings, + performs concatenation. Places strings together. \"Hello\" + \" \" + \"World\" = \"Hello World\"\n",
    "\n",
    "If a + is attempted to be used for mixed types like adding \"one\" + 2. it will result in an error. The values will need to be cast to the same type. ie str(2)."
   ]
  },
  {
   "cell_type": "code",
   "execution_count": 8,
   "id": "d3692604-a7eb-4aa2-b3c9-7a785477a724",
   "metadata": {},
   "outputs": [
    {
     "data": {
      "text/plain": [
       "4"
      ]
     },
     "execution_count": 8,
     "metadata": {},
     "output_type": "execute_result"
    }
   ],
   "source": [
    "#Adding int\n",
    "2+2"
   ]
  },
  {
   "cell_type": "code",
   "execution_count": 9,
   "id": "ec4db0d3-6ddb-48aa-9bd7-ad7666272549",
   "metadata": {},
   "outputs": [
    {
     "data": {
      "text/plain": [
       "'Hello World'"
      ]
     },
     "execution_count": 9,
     "metadata": {},
     "output_type": "execute_result"
    }
   ],
   "source": [
    "#Concatenating Strings\n",
    "\"Hello\" + \" \" + \"World\""
   ]
  },
  {
   "cell_type": "code",
   "execution_count": 10,
   "id": "d1b8da38-c940-4288-a7f6-729755da1e4e",
   "metadata": {},
   "outputs": [
    {
     "ename": "TypeError",
     "evalue": "can only concatenate str (not \"int\") to str",
     "output_type": "error",
     "traceback": [
      "\u001b[0;31m---------------------------------------------------------------------------\u001b[0m",
      "\u001b[0;31mTypeError\u001b[0m                                 Traceback (most recent call last)",
      "Cell \u001b[0;32mIn[10], line 1\u001b[0m\n\u001b[0;32m----> 1\u001b[0m \u001b[38;5;124m\"\u001b[39m\u001b[38;5;124mone\u001b[39m\u001b[38;5;124m\"\u001b[39m \u001b[38;5;241m+\u001b[39m \u001b[38;5;241m2\u001b[39m\n",
      "\u001b[0;31mTypeError\u001b[0m: can only concatenate str (not \"int\") to str"
     ]
    }
   ],
   "source": [
    "\"one\" + 2"
   ]
  },
  {
   "cell_type": "code",
   "execution_count": 11,
   "id": "d331c4b5-f786-40e4-b2fa-57642c35b418",
   "metadata": {},
   "outputs": [
    {
     "data": {
      "text/plain": [
       "'one2'"
      ]
     },
     "execution_count": 11,
     "metadata": {},
     "output_type": "execute_result"
    }
   ],
   "source": [
    "\"one\" + str(2)"
   ]
  },
  {
   "cell_type": "code",
   "execution_count": 12,
   "id": "7c552fc7-d172-4281-9d15-5bd12795f213",
   "metadata": {},
   "outputs": [
    {
     "data": {
      "text/plain": [
       "'73'"
      ]
     },
     "execution_count": 12,
     "metadata": {},
     "output_type": "execute_result"
    }
   ],
   "source": [
    "# Question 10 - Strings 3\n",
    "\"7\"+\"3\""
   ]
  }
 ],
 "metadata": {
  "kernelspec": {
   "display_name": "Python 3 (ipykernel)",
   "language": "python",
   "name": "python3"
  },
  "language_info": {
   "codemirror_mode": {
    "name": "ipython",
    "version": 3
   },
   "file_extension": ".py",
   "mimetype": "text/x-python",
   "name": "python",
   "nbconvert_exporter": "python",
   "pygments_lexer": "ipython3",
   "version": "3.12.7"
  }
 },
 "nbformat": 4,
 "nbformat_minor": 5
}
