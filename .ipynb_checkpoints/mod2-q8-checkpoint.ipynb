{
 "cells": [
  {
   "cell_type": "code",
   "execution_count": 3,
   "id": "aaee8cc3-7a93-40c3-8490-1373c50ad0bd",
   "metadata": {},
   "outputs": [
    {
     "name": "stdout",
     "output_type": "stream",
     "text": [
      "Susan's BMI is 24.0.\n"
     ]
    }
   ],
   "source": [
    "#variable for Susan's Weight\n",
    "pt_weight = 60\n",
    "#variable for Susan's Height\n",
    "pt_height = 1.58\n",
    "\n",
    "#Variable to calculate BMI\n",
    "pt_bmi = pt_weight / (pt_height**2)\n",
    "print(f\"Susan's BMI is {pt_bmi:.1f}.\")"
   ]
  }
 ],
 "metadata": {
  "kernelspec": {
   "display_name": "Python 3 (ipykernel)",
   "language": "python",
   "name": "python3"
  },
  "language_info": {
   "codemirror_mode": {
    "name": "ipython",
    "version": 3
   },
   "file_extension": ".py",
   "mimetype": "text/x-python",
   "name": "python",
   "nbconvert_exporter": "python",
   "pygments_lexer": "ipython3",
   "version": "3.12.7"
  }
 },
 "nbformat": 4,
 "nbformat_minor": 5
}
